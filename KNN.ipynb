{
 "cells": [
  {
   "cell_type": "code",
   "execution_count": 120,
   "metadata": {},
   "outputs": [],
   "source": [
    "#import all the required libraries\n",
    "import numpy as np\n",
    "import pandas as pd\n",
    "import matplotlib.pyplot as plt\n",
    "from sklearn.neighbors import KNeighborsClassifier\n",
    "from sklearn.model_selection import train_test_split\n",
    "from sklearn.metrics import accuracy_score, confusion_matrix, f1_score\n",
    "from sklearn.preprocessing import StandardScaler\n",
    "import sklearn.datasets as datasets\n"
   ]
  },
  {
   "cell_type": "code",
   "execution_count": 121,
   "metadata": {},
   "outputs": [],
   "source": [
    "#split iris dataset \n",
    "iris = datasets.load_iris()\n",
    "X = iris.data\n",
    "y = iris.target\n",
    "X_train, X_test, y_train, y_test = train_test_split(X,y, test_size=0.2, random_state=0)"
   ]
  },
  {
   "cell_type": "code",
   "execution_count": 122,
   "metadata": {},
   "outputs": [
    {
     "name": "stdout",
     "output_type": "stream",
     "text": [
      "Column names:  ['sepal length (cm)', 'sepal width (cm)', 'petal length (cm)', 'petal width (cm)']\n",
      "total features:  4\n",
      "Target names:  ['setosa' 'versicolor' 'virginica']\n"
     ]
    }
   ],
   "source": [
    "#show data and column names\n",
    "print(\"Column names: \", iris.feature_names)\n",
    "print(\"total features: \", X_train.shape[1])\n",
    "#target names\n",
    "print(\"Target names: \", iris.target_names)"
   ]
  },
  {
   "cell_type": "code",
   "execution_count": 123,
   "metadata": {},
   "outputs": [
    {
     "name": "stdout",
     "output_type": "stream",
     "text": [
      "X_train:  [[6.4 3.1 5.5 1.8]\n",
      " [5.4 3.  4.5 1.5]\n",
      " [5.2 3.5 1.5 0.2]\n",
      " [6.1 3.  4.9 1.8]\n",
      " [6.4 2.8 5.6 2.2]\n",
      " [5.2 2.7 3.9 1.4]]\n",
      "y_train:  [2 1 0 2 2 1]\n",
      "X_test:  (30, 4)\n"
     ]
    }
   ],
   "source": [
    "#show data\n",
    "print(\"X_train: \", X_train[:6])\n",
    "print(\"y_train: \", y_train[:6])\n",
    "print(\"X_test: \", X_test.shape)"
   ]
  },
  {
   "cell_type": "code",
   "execution_count": 124,
   "metadata": {},
   "outputs": [],
   "source": [
    "import numpy as np\n",
    "from collections import Counter\n",
    "def euclidean_distance(x1, x2):\n",
    "    return np.sqrt(np.sum((x1 - x2)**2))\n",
    "\n",
    "\n",
    "def k_nearest_neighbors(X_train, y_train, X_test, k=3):\n",
    "    \n",
    "    for x,i in enumerate(X_test):\n",
    "      distances = []\n",
    "      labels = []\n",
    "      for ind,j in enumerate(X_train):\n",
    "        distance = euclidean_distance(i, j)\n",
    "        distances.append((distance, ind))\n",
    "      print(distances)\n",
    "      distances = sorted(distances)[:k]\n",
    "      for d, ii in distances:\n",
    "        labels.append(y_train[ii])\n",
    "      most_com={}\n",
    "      #Counter(labels).most_common(1)[0][0]\n",
    "      for x in labels:\n",
    "        if most_com.get(x)==None:\n",
    "            most_com[x]=1\n",
    "        else:\n",
    "            most_com[x]+=1\n",
    "      maxi=0\n",
    "      for x in most_com:\n",
    "        if most_com[x]>maxi:\n",
    "            maxi=x\n",
    "            \n",
    "      print(f\"Label for {x} point: \",labels,\" ---> \",maxi)\n",
    "\n",
    " "
   ]
  },
  {
   "cell_type": "code",
   "execution_count": 129,
   "metadata": {},
   "outputs": [],
   "source": [
    "\n",
    "def euclidean_distance(x1, x2):\n",
    "    return np.sqrt(np.sum((x1 - x2)**2))\n",
    "\n",
    "def KNN(X_train, y_train, X_test, k=3):\n",
    "    predictions = []\n",
    "    for test_index, x_test in enumerate(X_test):\n",
    "        distances = []\n",
    "         \n",
    "        for train_index, x_train in enumerate(X_train):\n",
    "            d = euclidean_distance(x_test,x_train)\n",
    "            distances.append((d,train_index))\n",
    "        distances = sorted(distances)[:k]\n",
    "\n",
    "        labels = [y_train[i] for d,i in distances]\n",
    "        prediction = Counter(labels).most_common(1)[0][0]\n",
    "        predictions.append(prediction)\n",
    "        print(f\"Test point {test_index} --> {prediction}\")\n",
    "    return predictions\n",
    " "
   ]
  },
  {
   "cell_type": "code",
   "execution_count": 130,
   "metadata": {},
   "outputs": [
    {
     "name": "stdout",
     "output_type": "stream",
     "text": [
      "Test point 0 --> 2\n",
      "Test point 1 --> 1\n",
      "Test point 2 --> 0\n",
      "Test point 3 --> 2\n",
      "Test point 4 --> 0\n",
      "Test point 5 --> 2\n",
      "Test point 6 --> 0\n",
      "Test point 7 --> 1\n",
      "Test point 8 --> 1\n",
      "Test point 9 --> 1\n",
      "Test point 10 --> 2\n",
      "Test point 11 --> 1\n",
      "Test point 12 --> 1\n",
      "Test point 13 --> 1\n",
      "Test point 14 --> 2\n",
      "Test point 15 --> 0\n",
      "Test point 16 --> 1\n",
      "Test point 17 --> 1\n",
      "Test point 18 --> 0\n",
      "Test point 19 --> 0\n",
      "Test point 20 --> 2\n",
      "Test point 21 --> 1\n",
      "Test point 22 --> 0\n",
      "Test point 23 --> 0\n",
      "Test point 24 --> 2\n",
      "Test point 25 --> 0\n",
      "Test point 26 --> 0\n",
      "Test point 27 --> 1\n",
      "Test point 28 --> 1\n",
      "Test point 29 --> 0\n"
     ]
    }
   ],
   "source": [
    "predictions = KNN(X_train, y_train, X_test, k=3)"
   ]
  },
  {
   "cell_type": "code",
   "execution_count": 131,
   "metadata": {},
   "outputs": [
    {
     "name": "stdout",
     "output_type": "stream",
     "text": [
      "Accuracy score:  0.9666666666666667\n"
     ]
    }
   ],
   "source": [
    "#show accuracy using sklearn\n",
    "print(\"Accuracy score: \", accuracy_score(y_test, predictions))"
   ]
  },
  {
   "cell_type": "code",
   "execution_count": 136,
   "metadata": {},
   "outputs": [
    {
     "name": "stdout",
     "output_type": "stream",
     "text": [
      "Confusion matrix: \n",
      " [[11  0  0]\n",
      " [ 0 12  1]\n",
      " [ 0  0  6]]\n",
      "F1 score:  0.9610256410256409\n"
     ]
    }
   ],
   "source": [
    "\n",
    "#show confusion matrix\n",
    "print(\"Confusion matrix: \\n\", confusion_matrix(y_test, predictions))\n",
    "#show f1 \n",
    "print(\"F1 score: \", f1_score(y_test, predictions, average='macro'))\n"
   ]
  },
  {
   "cell_type": "code",
   "execution_count": 137,
   "metadata": {},
   "outputs": [
    {
     "name": "stdout",
     "output_type": "stream",
     "text": [
      "Accuracy score:  0.9666666666666667\n",
      "Confusion matrix: \n",
      " [[11  0  0]\n",
      " [ 0 12  1]\n",
      " [ 0  0  6]]\n",
      "F1 score:  0.9610256410256409\n"
     ]
    },
    {
     "name": "stderr",
     "output_type": "stream",
     "text": [
      "c:\\ProgramData\\Anaconda3\\lib\\site-packages\\sklearn\\neighbors\\_classification.py:228: FutureWarning: Unlike other reduction functions (e.g. `skew`, `kurtosis`), the default behavior of `mode` typically preserves the axis it acts along. In SciPy 1.11.0, this behavior will change: the default value of `keepdims` will become False, the `axis` over which the statistic is taken will be eliminated, and the value None will no longer be accepted. Set `keepdims` to True or False to avoid this warning.\n",
      "  mode, _ = stats.mode(_y[neigh_ind, k], axis=1)\n"
     ]
    }
   ],
   "source": [
    "#knn using sklearn\n",
    "knn = KNeighborsClassifier(n_neighbors=3)\n",
    "knn.fit(X_train, y_train)\n",
    "y_pred = knn.predict(X_test)\n",
    "print(\"Accuracy score: \", accuracy_score(y_test, y_pred))\n",
    "print(\"Confusion matrix: \\n\", confusion_matrix(y_test, y_pred))\n",
    "print(\"F1 score: \", f1_score(y_test, y_pred, average='macro'))"
   ]
  }
 ],
 "metadata": {
  "kernelspec": {
   "display_name": "base",
   "language": "python",
   "name": "python3"
  },
  "language_info": {
   "codemirror_mode": {
    "name": "ipython",
    "version": 3
   },
   "file_extension": ".py",
   "mimetype": "text/x-python",
   "name": "python",
   "nbconvert_exporter": "python",
   "pygments_lexer": "ipython3",
   "version": "3.9.13"
  },
  "orig_nbformat": 4
 },
 "nbformat": 4,
 "nbformat_minor": 2
}
