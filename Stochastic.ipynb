{
 "cells": [
  {
   "cell_type": "code",
   "execution_count": 1,
   "metadata": {},
   "outputs": [
    {
     "name": "stdout",
     "output_type": "stream",
     "text": [
      "<class 'pandas.core.frame.DataFrame'>\n",
      "Int64Index: 95 entries, 0 to 99\n",
      "Data columns (total 5 columns):\n",
      " #   Column           Non-Null Count  Dtype  \n",
      "---  ------           --------------  -----  \n",
      " 0   sepal_length_cm  95 non-null     float64\n",
      " 1   sepal_width_cm   95 non-null     float64\n",
      " 2   petal_length_cm  95 non-null     float64\n",
      " 3   petal_width_cm   95 non-null     float64\n",
      " 4   class            95 non-null     object \n",
      "dtypes: float64(4), object(1)\n",
      "memory usage: 4.5+ KB\n",
      "1 . Loss: 0.531725538720696 , W: [-0.04606504  0.2012122  -0.29541011 -0.29593011 -0.02944796]\n",
      "2 . Loss: 0.33372736198659575 , W: [-0.06939279  0.33400006 -0.49477605 -0.49581866 -0.05149385]\n",
      "3 . Loss: 0.23799901036859983 , W: [-0.08162452  0.42963296 -0.64094458 -0.64245516 -0.06900216]\n",
      "4 . Loss: 0.18378981001000563 , W: [-0.08813392  0.50331121 -0.75520862 -0.75711401 -0.08346422]\n",
      "5 . Loss: 0.14939762931973405 , W: [-0.09147572  0.56279847 -0.84864266 -0.85087562 -0.09574121]\n",
      "6 . Loss: 0.12578040452685943 , W: [-0.09296081  0.6124524  -0.92753998 -0.93004397 -0.10637637]\n",
      "7 . Loss: 0.10861178265183923 , W: [-0.09331018  0.65492702 -0.99576536 -0.99849385 -0.1157348 ]\n",
      "8 . Loss: 0.09558859898012409 , W: [-0.09294349  0.69194676 -1.05584426 -1.05875893 -0.12407367]\n",
      "9 . Loss: 0.08538023744233868 , W: [-0.09211634  0.72469065 -1.1095105  -1.11257954 -0.13158086]\n",
      "10 . Loss: 0.0771672491471046 , W: [-0.09099016  0.75399828 -1.15800266 -1.16119943 -0.13839762]\n"
     ]
    },
    {
     "data": {
      "image/png": "[encoded data removed]",
      "text/plain": [
       "<Figure size 640x480 with 1 Axes>"
      ]
     },
     "metadata": {},
     "output_type": "display_data"
    },
    {
     "data": {
      "text/plain": [
       "array([-0.09099016,  0.75399828, -1.15800266, -1.16119943, -0.13839762])"
      ]
     },
     "execution_count": 1,
     "metadata": {},
     "output_type": "execute_result"
    }
   ],
   "source": [
    "import matplotlib.pyplot as plt\n",
    "import numpy as np\n",
    "import pandas as pd\n",
    "\n",
    "import sklearn\n",
    "from sklearn.model_selection import train_test_split\n",
    "from sklearn.preprocessing import StandardScaler\n",
    "\n",
    "df = pd.read_csv('iris-data.csv')\n",
    "df = df.dropna()\n",
    "df.info()\n",
    "\n",
    "df['class'].replace([\"Iris-setosa\", \"Iris-versicolor\"], [1, 0], inplace=True)\n",
    "\n",
    "inp_df = df.drop(df.columns[[4]], axis=1)\n",
    "out_df = df.drop(df.columns[[0, 1, 2, 3]], axis=1)\n",
    "\n",
    "scaler = StandardScaler()\n",
    "inp_df = scaler.fit_transform(inp_df)\n",
    "\n",
    "new_c = (np.zeros(shape=(inp_df.shape[0], 1)) + 1)\n",
    "inp_df = np.concatenate((inp_df, new_c), axis=1)\n",
    "\n",
    "X_train, X_test, y_train, y_test = train_test_split(inp_df, out_df, test_size=0.2, random_state=42)\n",
    "\n",
    "def model(X, W):\n",
    "    # Logistic regression model implementation\n",
    "    z = np.dot(X, W)\n",
    "    y = 1 / (1 + np.exp(-z))\n",
    "    return y\n",
    "\n",
    "def loss_bce(y_true, y_pred):\n",
    "    \n",
    "    loss = -np.sum(y_true * np.log(y_pred) + (1 - y_true) * np.log(1 - y_pred)).mean()\n",
    "    return loss\n",
    "\n",
    "def fit(num_weights, epoch=10, lr=0.01):\n",
    "    # Initialization\n",
    "    W = np.zeros(num_weights)\n",
    "    loss_history = []\n",
    "    # Epochs start\n",
    "    for e in range(1, epoch + 1):\n",
    "        total_loss = 0.0\n",
    "\n",
    "\n",
    "        for i in range(X_train.shape[0]):\n",
    "            X_i = X_train[i]\n",
    "            y_i = y_train.iloc[i]\n",
    "\n",
    "\n",
    "            y_pred = model(X_i, W)\n",
    "            loss = loss_bce(y_i, y_pred)\n",
    "            total_loss += loss\n",
    "\n",
    "            for j in range(W.shape[0]):\n",
    "                # Calculate derivative against parameters\n",
    "                dw_j = (y_pred - y_i) * X_i[j]\n",
    "                # Update parameters\n",
    "                W[j] = W[j] - lr * dw_j\n",
    "\n",
    "\n",
    "        avg_loss = total_loss / X_train.shape[0]\n",
    "        print(e, \". Loss:\", avg_loss, \", W:\", W)\n",
    "        loss_history.append(avg_loss)\n",
    "    plt.plot(loss_history)\n",
    "    plt.xlabel(\"Epoch\")\n",
    "    plt.ylabel(\"Loss\")\n",
    "    plt.show()\n",
    "\n",
    "    return W\n",
    "\n",
    "fit(X_train.shape[1], epoch=10, lr=0.01)\n"
   ]
  },
  {
   "cell_type": "code",
   "execution_count": 6,
   "metadata": {},
   "outputs": [
    {
     "data": {
      "text/plain": [
       "array([ 0.14025935,  0.65973115, -0.85464475, -1.10111477,  1.        ])"
      ]
     },
     "execution_count": 6,
     "metadata": {},
     "output_type": "execute_result"
    }
   ],
   "source": [
    "X_train[1]"
   ]
  }
 ],
 "metadata": {
  "kernelspec": {
   "display_name": "base",
   "language": "python",
   "name": "python3"
  },
  "language_info": {
   "codemirror_mode": {
    "name": "ipython",
    "version": 3
   },
   "file_extension": ".py",
   "mimetype": "text/x-python",
   "name": "python",
   "nbconvert_exporter": "python",
   "pygments_lexer": "ipython3",
   "version": "3.9.13"
  },
  "orig_nbformat": 4
 },
 "nbformat": 4,
 "nbformat_minor": 2
}
